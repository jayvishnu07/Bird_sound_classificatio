{
  "nbformat": 4,
  "nbformat_minor": 0,
  "metadata": {
    "kernelspec": {
      "display_name": "Python 3",
      "language": "python",
      "name": "python3"
    },
    "language_info": {
      "codemirror_mode": {
        "name": "ipython",
        "version": 3
      },
      "file_extension": ".py",
      "mimetype": "text/x-python",
      "name": "python",
      "nbconvert_exporter": "python",
      "pygments_lexer": "ipython3",
      "version": "3.7.6"
    },
    "colab": {
      "provenance": []
    },
    "accelerator": "GPU"
  },
  "cells": [
    {
      "cell_type": "code",
      "metadata": {
        "colab": {
          "base_uri": "https://localhost:8080/"
        },
        "id": "FzCypiwy75H8",
        "outputId": "83afde52-18f0-4e81-a218-71d1c2441535"
      },
      "source": [
        "from google.colab import drive\n",
        "drive.mount('/content/drive')"
      ],
      "execution_count": null,
      "outputs": [
        {
          "output_type": "stream",
          "text": [
            "Drive already mounted at /content/drive; to attempt to forcibly remount, call drive.mount(\"/content/drive\", force_remount=True).\n"
          ],
          "name": "stdout"
        }
      ]
    },
    {
      "cell_type": "code",
      "metadata": {
        "colab": {
          "base_uri": "https://localhost:8080/"
        },
        "id": "aX0v4uFh8o1G",
        "outputId": "5e4b7c9e-806b-4308-e9bd-81d5583c7f34"
      },
      "source": [
        "import os\n",
        "os.environ['KAGGLE_CONFIG_DIR'] = \"/content/drive/MyDrive/kaggle\"\n",
        "#changing the working directory\n",
        "%cd /content/drive/MyDrive/kaggle"
      ],
      "execution_count": null,
      "outputs": [
        {
          "output_type": "stream",
          "text": [
            "/content/drive/MyDrive/kaggle\n"
          ],
          "name": "stdout"
        }
      ]
    },
    {
      "cell_type": "code",
      "metadata": {
        "_cell_guid": "b1076dfc-b9ad-4769-8c92-a6c4dae69d19",
        "_uuid": "8f2839f25d086af736a60e9eeb907d3b93b6e0e5",
        "id": "tD1i_daa5uoq"
      },
      "source": [
        "import numpy as np\n",
        "import pandas as pd\n",
        "import wave\n",
        "from scipy.io import wavfile\n",
        "import os\n",
        "import librosa\n",
        "from librosa.feature import melspectrogram\n",
        "import warnings\n",
        "from sklearn.utils import shuffle\n",
        "from sklearn.utils import class_weight\n",
        "from PIL import Image\n",
        "from uuid import uuid4\n",
        "import sklearn\n",
        "from tqdm import tqdm\n",
        "\n",
        "import tensorflow as tf\n",
        "from tensorflow.keras.models import Sequential\n",
        "from tensorflow.keras import layers\n",
        "from tensorflow.keras import Input\n",
        "from tensorflow.keras.models import Model\n",
        "from tensorflow.keras.layers import Dense, Flatten, Dropout, Activation\n",
        "from tensorflow.keras.layers import BatchNormalization, GlobalAveragePooling2D\n",
        "from tensorflow.keras.callbacks import ModelCheckpoint, ReduceLROnPlateau, EarlyStopping\n",
        "from tensorflow.keras.utils import to_categorical\n",
        "from tensorflow.keras.layers import Dense, Flatten, Dropout, Activation, LSTM, SimpleRNN, Conv1D, Input, BatchNormalization, GlobalAveragePooling2D\n",
        "from tensorflow.keras.preprocessing.image import ImageDataGenerator\n",
        "from tensorflow.keras.applications import EfficientNetB0\n",
        "\n",
        "\n",
        "import matplotlib.pyplot as plt\n",
        "import seaborn as sns\n",
        "sns.set()"
      ],
      "execution_count": null,
      "outputs": []
    },
    {
      "cell_type": "code",
      "metadata": {
        "_cell_guid": "79c7e3d0-c299-4dcb-8224-4455121ee9b0",
        "_uuid": "d629ff2d2480ee46fbb7e2d37f6b5fab8052498a",
        "id": "UyWXTJ2V5uos"
      },
      "source": [
        "train_df = pd.read_csv('/content/drive/MyDrive/kaggle/bird_det/train.csv')"
      ],
      "execution_count": null,
      "outputs": []
    },
    {
      "cell_type": "code",
      "metadata": {
        "id": "cfpdMM1o5uos"
      },
      "source": [
        "train_df = train_df.query(\"rating>=4\")\n",
        "\n",
        "birds_count = {}\n",
        "for bird_species, count in zip(train_df.ebird_code.unique(), train_df.groupby(\"ebird_code\")[\"ebird_code\"].count().values):\n",
        "    birds_count[bird_species] = count\n",
        "most_represented_birds = [key for key,value in birds_count.items() if value == 100]\n",
        "\n",
        "train_df = train_df.query(\"ebird_code in @most_represented_birds\")"
      ],
      "execution_count": null,
      "outputs": []
    },
    {
      "cell_type": "code",
      "metadata": {
        "colab": {
          "base_uri": "https://localhost:8080/"
        },
        "id": "KV4r7TXl5uot",
        "outputId": "aa36b5df-42d8-4eba-ab3c-d66559c044dc"
      },
      "source": [
        "len(train_df.ebird_code.unique())"
      ],
      "execution_count": null,
      "outputs": [
        {
          "output_type": "execute_result",
          "data": {
            "text/plain": [
              "49"
            ]
          },
          "metadata": {
            "tags": []
          },
          "execution_count": 7
        }
      ]
    },
    {
      "cell_type": "code",
      "metadata": {
        "colab": {
          "base_uri": "https://localhost:8080/"
        },
        "id": "s2-lNi1u5uou",
        "outputId": "fd546d10-2d93-4ed1-adf6-fbb3c189fd32"
      },
      "source": [
        "birds_to_recognise = sorted(shuffle(most_represented_birds)[:20])\n",
        "print(birds_to_recognise)"
      ],
      "execution_count": null,
      "outputs": [
        {
          "output_type": "stream",
          "text": [
            "['amerob', 'astfly', 'blujay', 'buggna', 'comter', 'comyel', 'gnwtea', 'greegr', 'herthr', 'linspa', 'mallar3', 'marwre', 'norfli', 'normoc', 'redcro', 'swathr', 'warvir', 'wesmea', 'whbnut', 'whtspa']\n"
          ],
          "name": "stdout"
        }
      ]
    },
    {
      "cell_type": "code",
      "metadata": {
        "colab": {
          "base_uri": "https://localhost:8080/",
          "height": 581
        },
        "id": "eIabVnHb5uov",
        "outputId": "2ef26280-ca31-4f0f-f387-b634d8d0a1b3"
      },
      "source": [
        "train_df = shuffle(train_df)\n",
        "train_df.head()"
      ],
      "execution_count": null,
      "outputs": [
        {
          "output_type": "execute_result",
          "data": {
            "text/html": [
              "<div>\n",
              "<style scoped>\n",
              "    .dataframe tbody tr th:only-of-type {\n",
              "        vertical-align: middle;\n",
              "    }\n",
              "\n",
              "    .dataframe tbody tr th {\n",
              "        vertical-align: top;\n",
              "    }\n",
              "\n",
              "    .dataframe thead th {\n",
              "        text-align: right;\n",
              "    }\n",
              "</style>\n",
              "<table border=\"1\" class=\"dataframe\">\n",
              "  <thead>\n",
              "    <tr style=\"text-align: right;\">\n",
              "      <th></th>\n",
              "      <th>rating</th>\n",
              "      <th>playback_used</th>\n",
              "      <th>ebird_code</th>\n",
              "      <th>channels</th>\n",
              "      <th>date</th>\n",
              "      <th>pitch</th>\n",
              "      <th>duration</th>\n",
              "      <th>filename</th>\n",
              "      <th>speed</th>\n",
              "      <th>species</th>\n",
              "      <th>number_of_notes</th>\n",
              "      <th>title</th>\n",
              "      <th>secondary_labels</th>\n",
              "      <th>bird_seen</th>\n",
              "      <th>sci_name</th>\n",
              "      <th>location</th>\n",
              "      <th>latitude</th>\n",
              "      <th>sampling_rate</th>\n",
              "      <th>type</th>\n",
              "      <th>elevation</th>\n",
              "      <th>description</th>\n",
              "      <th>bitrate_of_mp3</th>\n",
              "      <th>file_type</th>\n",
              "      <th>volume</th>\n",
              "      <th>background</th>\n",
              "      <th>xc_id</th>\n",
              "      <th>url</th>\n",
              "      <th>country</th>\n",
              "      <th>author</th>\n",
              "      <th>primary_label</th>\n",
              "      <th>longitude</th>\n",
              "      <th>length</th>\n",
              "      <th>time</th>\n",
              "      <th>recordist</th>\n",
              "      <th>license</th>\n",
              "    </tr>\n",
              "  </thead>\n",
              "  <tbody>\n",
              "    <tr>\n",
              "      <th>1459</th>\n",
              "      <td>5.0</td>\n",
              "      <td>no</td>\n",
              "      <td>barswa</td>\n",
              "      <td>1 (mono)</td>\n",
              "      <td>2015-02-01</td>\n",
              "      <td>Not specified</td>\n",
              "      <td>21</td>\n",
              "      <td>XC288339.mp3</td>\n",
              "      <td>Not specified</td>\n",
              "      <td>Barn Swallow</td>\n",
              "      <td>Not specified</td>\n",
              "      <td>XC288339 Barn Swallow (Hirundo rustica)</td>\n",
              "      <td>[]</td>\n",
              "      <td>yes</td>\n",
              "      <td>Hirundo rustica</td>\n",
              "      <td>Castelândia, Porteirão, Goiás</td>\n",
              "      <td>-18.0737</td>\n",
              "      <td>48000 (Hz)</td>\n",
              "      <td>call, song</td>\n",
              "      <td>420 m</td>\n",
              "      <td>NaN</td>\n",
              "      <td>128000 (bps)</td>\n",
              "      <td>mp3</td>\n",
              "      <td>Not specified</td>\n",
              "      <td>NaN</td>\n",
              "      <td>288339</td>\n",
              "      <td>https://www.xeno-canto.org/288339</td>\n",
              "      <td>Brazil</td>\n",
              "      <td>Marcelo Villegas</td>\n",
              "      <td>Hirundo rustica_Barn Swallow</td>\n",
              "      <td>-50.1745</td>\n",
              "      <td>Not specified</td>\n",
              "      <td>08:30</td>\n",
              "      <td>Marcelo Villegas</td>\n",
              "      <td>Creative Commons Attribution-NonCommercial-Sha...</td>\n",
              "    </tr>\n",
              "    <tr>\n",
              "      <th>12869</th>\n",
              "      <td>5.0</td>\n",
              "      <td>no</td>\n",
              "      <td>marwre</td>\n",
              "      <td>2 (stereo)</td>\n",
              "      <td>2019-05-24</td>\n",
              "      <td>Not specified</td>\n",
              "      <td>48</td>\n",
              "      <td>XC479944.mp3</td>\n",
              "      <td>Not specified</td>\n",
              "      <td>Marsh Wren</td>\n",
              "      <td>Not specified</td>\n",
              "      <td>XC479944 Marsh Wren (Cistothorus palustris)</td>\n",
              "      <td>[]</td>\n",
              "      <td>yes</td>\n",
              "      <td>Cistothorus palustris</td>\n",
              "      <td>Greater Vancouver A (near  Richmond), Greater...</td>\n",
              "      <td>49.2204</td>\n",
              "      <td>48000 (Hz)</td>\n",
              "      <td>song</td>\n",
              "      <td>10 m</td>\n",
              "      <td>Recording normalized to -3dB.</td>\n",
              "      <td>320000 (bps)</td>\n",
              "      <td>mp3</td>\n",
              "      <td>Not specified</td>\n",
              "      <td>NaN</td>\n",
              "      <td>479944</td>\n",
              "      <td>https://www.xeno-canto.org/479944</td>\n",
              "      <td>Canada</td>\n",
              "      <td>Sunny Tseng</td>\n",
              "      <td>Cistothorus palustris_Marsh Wren</td>\n",
              "      <td>-123.2089</td>\n",
              "      <td>Not specified</td>\n",
              "      <td>08:00</td>\n",
              "      <td>Sunny Tseng</td>\n",
              "      <td>Creative Commons Attribution-NonCommercial-Sha...</td>\n",
              "    </tr>\n",
              "    <tr>\n",
              "      <th>5665</th>\n",
              "      <td>5.0</td>\n",
              "      <td>no</td>\n",
              "      <td>chispa</td>\n",
              "      <td>2 (stereo)</td>\n",
              "      <td>2018-06-01</td>\n",
              "      <td>level</td>\n",
              "      <td>89</td>\n",
              "      <td>XC418151.mp3</td>\n",
              "      <td>level</td>\n",
              "      <td>Chipping Sparrow</td>\n",
              "      <td>&gt;20</td>\n",
              "      <td>XC418151 Chipping Sparrow (Spizella passerina)</td>\n",
              "      <td>[]</td>\n",
              "      <td>no</td>\n",
              "      <td>Spizella passerina</td>\n",
              "      <td>Fraser-Fort George C, Fraser-Fort George, Bri...</td>\n",
              "      <td>53.4842</td>\n",
              "      <td>44100 (Hz)</td>\n",
              "      <td>song</td>\n",
              "      <td>750 m</td>\n",
              "      <td>Bird singing from a replanted cut-block</td>\n",
              "      <td>128000 (bps)</td>\n",
              "      <td>mp3</td>\n",
              "      <td>level</td>\n",
              "      <td>NaN</td>\n",
              "      <td>418151</td>\n",
              "      <td>https://www.xeno-canto.org/418151</td>\n",
              "      <td>Canada</td>\n",
              "      <td>Jeff Dyck</td>\n",
              "      <td>Spizella passerina_Chipping Sparrow</td>\n",
              "      <td>-123.1101</td>\n",
              "      <td>3-6(s)</td>\n",
              "      <td>20:30</td>\n",
              "      <td>Jeff Dyck</td>\n",
              "      <td>Creative Commons Attribution-NonCommercial-Sha...</td>\n",
              "    </tr>\n",
              "    <tr>\n",
              "      <th>16238</th>\n",
              "      <td>5.0</td>\n",
              "      <td>NaN</td>\n",
              "      <td>rewbla</td>\n",
              "      <td>2 (stereo)</td>\n",
              "      <td>2013-06-12</td>\n",
              "      <td>Not specified</td>\n",
              "      <td>124</td>\n",
              "      <td>XC164112.mp3</td>\n",
              "      <td>Not specified</td>\n",
              "      <td>Red-winged Blackbird</td>\n",
              "      <td>Not specified</td>\n",
              "      <td>XC164112 Red-winged Blackbird (Agelaius phoeni...</td>\n",
              "      <td>[]</td>\n",
              "      <td>NaN</td>\n",
              "      <td>Agelaius phoeniceus</td>\n",
              "      <td>Foam Lake No. 276 (near  Leslie), Division No...</td>\n",
              "      <td>51.7772</td>\n",
              "      <td>44100 (Hz)</td>\n",
              "      <td>song</td>\n",
              "      <td>550 m</td>\n",
              "      <td>Modifications: None\\n\\nbird-seen:no</td>\n",
              "      <td>128000 (bps)</td>\n",
              "      <td>mp3</td>\n",
              "      <td>Not specified</td>\n",
              "      <td>NaN</td>\n",
              "      <td>164112</td>\n",
              "      <td>https://www.xeno-canto.org/164112</td>\n",
              "      <td>Canada</td>\n",
              "      <td>Patrick Turgeon</td>\n",
              "      <td>Agelaius phoeniceus_Red-winged Blackbird</td>\n",
              "      <td>-103.5795</td>\n",
              "      <td>Not specified</td>\n",
              "      <td>07:02</td>\n",
              "      <td>Patrick Turgeon</td>\n",
              "      <td>Creative Commons Attribution-NonCommercial-Sha...</td>\n",
              "    </tr>\n",
              "    <tr>\n",
              "      <th>19399</th>\n",
              "      <td>5.0</td>\n",
              "      <td>no</td>\n",
              "      <td>wesmea</td>\n",
              "      <td>1 (mono)</td>\n",
              "      <td>2012-03-04</td>\n",
              "      <td>Not specified</td>\n",
              "      <td>81</td>\n",
              "      <td>XC161774.mp3</td>\n",
              "      <td>Not specified</td>\n",
              "      <td>Western Meadowlark</td>\n",
              "      <td>Not specified</td>\n",
              "      <td>XC161774 Western Meadowlark (Sturnella neglecta)</td>\n",
              "      <td>[]</td>\n",
              "      <td>yes</td>\n",
              "      <td>Sturnella neglecta</td>\n",
              "      <td>Tijuana Slough NWR, trail from south end of 5...</td>\n",
              "      <td>32.564</td>\n",
              "      <td>48000 (Hz)</td>\n",
              "      <td>call, song</td>\n",
              "      <td>0 m</td>\n",
              "      <td>NaN</td>\n",
              "      <td>128000 (bps)</td>\n",
              "      <td>mp3</td>\n",
              "      <td>Not specified</td>\n",
              "      <td>NaN</td>\n",
              "      <td>161774</td>\n",
              "      <td>https://www.xeno-canto.org/161774</td>\n",
              "      <td>United States</td>\n",
              "      <td>Paul Marvin</td>\n",
              "      <td>Sturnella neglecta_Western Meadowlark</td>\n",
              "      <td>-117.1256</td>\n",
              "      <td>Not specified</td>\n",
              "      <td>10:47</td>\n",
              "      <td>Paul Marvin</td>\n",
              "      <td>Creative Commons Attribution-NonCommercial-Sha...</td>\n",
              "    </tr>\n",
              "  </tbody>\n",
              "</table>\n",
              "</div>"
            ],
            "text/plain": [
              "       rating  ...                                            license\n",
              "1459      5.0  ...  Creative Commons Attribution-NonCommercial-Sha...\n",
              "12869     5.0  ...  Creative Commons Attribution-NonCommercial-Sha...\n",
              "5665      5.0  ...  Creative Commons Attribution-NonCommercial-Sha...\n",
              "16238     5.0  ...  Creative Commons Attribution-NonCommercial-Sha...\n",
              "19399     5.0  ...  Creative Commons Attribution-NonCommercial-Sha...\n",
              "\n",
              "[5 rows x 35 columns]"
            ]
          },
          "metadata": {
            "tags": []
          },
          "execution_count": 9
        }
      ]
    },
    {
      "cell_type": "code",
      "metadata": {
        "colab": {
          "base_uri": "https://localhost:8080/"
        },
        "id": "xAIbQQ2Q5uov",
        "outputId": "a1cfa8b6-c97d-4df9-cbda-0c3ad1ae0377"
      },
      "source": [
        "len(train_df)"
      ],
      "execution_count": null,
      "outputs": [
        {
          "output_type": "execute_result",
          "data": {
            "text/plain": [
              "4900"
            ]
          },
          "metadata": {
            "tags": []
          },
          "execution_count": 10
        }
      ]
    },
    {
      "cell_type": "code",
      "metadata": {
        "id": "3iZBDGoq5uov"
      },
      "source": [
        "def get_sample(filename, bird, output_folder):\n",
        "    wave_data, wave_rate = librosa.load(filename)\n",
        "    wave_data, _ = librosa.effects.trim(wave_data)\n",
        "    #only take 5s samples and add them to the dataframe\n",
        "    song_sample = []\n",
        "    sample_length = 5*wave_rate\n",
        "    samples_from_file = []\n",
        "    #The variable below is chosen mainly to create a 216x216 image\n",
        "    N_mels=216\n",
        "    for idx in range(0,len(wave_data),sample_length):\n",
        "        song_sample = wave_data[idx:idx+sample_length]\n",
        "        if len(song_sample)>=sample_length:\n",
        "            mel = melspectrogram(song_sample, n_mels=N_mels)\n",
        "            db = librosa.power_to_db(mel)\n",
        "            normalised_db = sklearn.preprocessing.minmax_scale(db)\n",
        "            filename = str(uuid4())+\".tif\"\n",
        "            db_array = (np.asarray(normalised_db)*255).astype(np.uint8)\n",
        "            db_image =  Image.fromarray(np.array([db_array, db_array, db_array]).T)\n",
        "            db_image.save(\"{}{}\".format(output_folder,filename))\n",
        "\n",
        "            samples_from_file.append({\"song_sample\":\"{}{}\".format(output_folder,filename),\n",
        "                                            \"bird\":bird})\n",
        "    return samples_from_file"
      ],
      "execution_count": null,
      "outputs": []
    },
    {
      "cell_type": "code",
      "metadata": {
        "colab": {
          "base_uri": "https://localhost:8080/"
        },
        "id": "CcyWXOBT5uox",
        "outputId": "ac923fc9-1f55-4df5-b8ef-bf4b4c51f17f"
      },
      "source": [
        "%%time\n",
        "warnings.filterwarnings(\"ignore\")\n",
        "samples_df = pd.DataFrame(columns=[\"song_sample\",\"bird\"])\n",
        "\n",
        "#We limit the number of audio files being sampled to 1000 in this notebook to save time\n",
        "#on top of having limited the number of bird species previously\n",
        "sample_limit = 1000\n",
        "sample_list = []\n",
        "\n",
        "output_folder = \"/content/drive/MyDrive/kaggle/\"\n",
        "os.makedirs(output_folder, exist_ok=True)\n",
        "#os.mkdir(output_folder)\n",
        "with tqdm(total=sample_limit) as pbar:\n",
        "    for idx, row in train_df[:sample_limit].iterrows():\n",
        "        pbar.update(1)\n",
        "        try:\n",
        "            audio_file_path = \"/content/drive/MyDrive/kaggle/bird_det/train_audio/\"\n",
        "            audio_file_path += row.ebird_code\n",
        "\n",
        "            if row.ebird_code in birds_to_recognise:\n",
        "                sample_list += get_sample('{}/{}'.format(audio_file_path, row.filename), row.ebird_code, output_folder)\n",
        "            else:\n",
        "                sample_list += get_sample('{}/{}'.format(audio_file_path, row.filename), \"nocall\", output_folder)\n",
        "        except:\n",
        "            raise\n",
        "            print(\"{} is corrupted\".format(audio_file_path))\n",
        "\n",
        "samples_df = pd.DataFrame(sample_list)"
      ],
      "execution_count": null,
      "outputs": [
        {
          "output_type": "stream",
          "text": [
            "100%|██████████| 1000/1000 [1:05:55<00:00,  3.96s/it]\n"
          ],
          "name": "stderr"
        },
        {
          "output_type": "stream",
          "text": [
            "CPU times: user 46min 49s, sys: 7min 52s, total: 54min 42s\n",
            "Wall time: 1h 5min 56s\n"
          ],
          "name": "stdout"
        }
      ]
    },
    {
      "cell_type": "code",
      "metadata": {
        "colab": {
          "base_uri": "https://localhost:8080/",
          "height": 271
        },
        "id": "-syYH1ZP5uoy",
        "outputId": "9f4bf216-484c-4ad4-8f10-d00a53293aea"
      },
      "source": [
        "demo_img = Image.open(samples_df.iloc[0].song_sample)\n",
        "plt.imshow(demo_img)\n",
        "plt.show()"
      ],
      "execution_count": null,
      "outputs": [
        {
          "output_type": "display_data",
          "data": {
            "image/png": "[encoded data removed]",
            "text/plain": [
              "<Figure size 432x288 with 1 Axes>"
            ]
          },
          "metadata": {
            "tags": []
          }
        }
      ]
    },
    {
      "cell_type": "code",
      "metadata": {
        "colab": {
          "base_uri": "https://localhost:8080/",
          "height": 359
        },
        "id": "8MlGf2j45uoz",
        "outputId": "cf5b0562-45ad-4cba-8922-4ec3f4e6e2d8"
      },
      "source": [
        "samples_df = shuffle(samples_df)\n",
        "samples_df[:10]"
      ],
      "execution_count": null,
      "outputs": [
        {
          "output_type": "execute_result",
          "data": {
            "text/html": [
              "<div>\n",
              "<style scoped>\n",
              "    .dataframe tbody tr th:only-of-type {\n",
              "        vertical-align: middle;\n",
              "    }\n",
              "\n",
              "    .dataframe tbody tr th {\n",
              "        vertical-align: top;\n",
              "    }\n",
              "\n",
              "    .dataframe thead th {\n",
              "        text-align: right;\n",
              "    }\n",
              "</style>\n",
              "<table border=\"1\" class=\"dataframe\">\n",
              "  <thead>\n",
              "    <tr style=\"text-align: right;\">\n",
              "      <th></th>\n",
              "      <th>song_sample</th>\n",
              "      <th>bird</th>\n",
              "    </tr>\n",
              "  </thead>\n",
              "  <tbody>\n",
              "    <tr>\n",
              "      <th>1301</th>\n",
              "      <td>/content/drive/MyDrive/kaggle/ea043801-7a08-45...</td>\n",
              "      <td>nocall</td>\n",
              "    </tr>\n",
              "    <tr>\n",
              "      <th>2137</th>\n",
              "      <td>/content/drive/MyDrive/kaggle/b6808d02-64f3-40...</td>\n",
              "      <td>marwre</td>\n",
              "    </tr>\n",
              "    <tr>\n",
              "      <th>1402</th>\n",
              "      <td>/content/drive/MyDrive/kaggle/6b35fe71-a936-48...</td>\n",
              "      <td>herthr</td>\n",
              "    </tr>\n",
              "    <tr>\n",
              "      <th>2834</th>\n",
              "      <td>/content/drive/MyDrive/kaggle/a4c0abd0-f609-49...</td>\n",
              "      <td>warvir</td>\n",
              "    </tr>\n",
              "    <tr>\n",
              "      <th>7691</th>\n",
              "      <td>/content/drive/MyDrive/kaggle/6a72ac0a-f7cf-44...</td>\n",
              "      <td>nocall</td>\n",
              "    </tr>\n",
              "    <tr>\n",
              "      <th>3671</th>\n",
              "      <td>/content/drive/MyDrive/kaggle/f73d1552-bdcc-40...</td>\n",
              "      <td>nocall</td>\n",
              "    </tr>\n",
              "    <tr>\n",
              "      <th>3581</th>\n",
              "      <td>/content/drive/MyDrive/kaggle/517881a5-7d01-4f...</td>\n",
              "      <td>astfly</td>\n",
              "    </tr>\n",
              "    <tr>\n",
              "      <th>1155</th>\n",
              "      <td>/content/drive/MyDrive/kaggle/265f2e32-c24c-4d...</td>\n",
              "      <td>nocall</td>\n",
              "    </tr>\n",
              "    <tr>\n",
              "      <th>4861</th>\n",
              "      <td>/content/drive/MyDrive/kaggle/724e25da-3056-46...</td>\n",
              "      <td>nocall</td>\n",
              "    </tr>\n",
              "    <tr>\n",
              "      <th>11593</th>\n",
              "      <td>/content/drive/MyDrive/kaggle/7b842451-8705-48...</td>\n",
              "      <td>nocall</td>\n",
              "    </tr>\n",
              "  </tbody>\n",
              "</table>\n",
              "</div>"
            ],
            "text/plain": [
              "                                             song_sample    bird\n",
              "1301   /content/drive/MyDrive/kaggle/ea043801-7a08-45...  nocall\n",
              "2137   /content/drive/MyDrive/kaggle/b6808d02-64f3-40...  marwre\n",
              "1402   /content/drive/MyDrive/kaggle/6b35fe71-a936-48...  herthr\n",
              "2834   /content/drive/MyDrive/kaggle/a4c0abd0-f609-49...  warvir\n",
              "7691   /content/drive/MyDrive/kaggle/6a72ac0a-f7cf-44...  nocall\n",
              "3671   /content/drive/MyDrive/kaggle/f73d1552-bdcc-40...  nocall\n",
              "3581   /content/drive/MyDrive/kaggle/517881a5-7d01-4f...  astfly\n",
              "1155   /content/drive/MyDrive/kaggle/265f2e32-c24c-4d...  nocall\n",
              "4861   /content/drive/MyDrive/kaggle/724e25da-3056-46...  nocall\n",
              "11593  /content/drive/MyDrive/kaggle/7b842451-8705-48...  nocall"
            ]
          },
          "metadata": {
            "tags": []
          },
          "execution_count": 15
        }
      ]
    },
    {
      "cell_type": "markdown",
      "metadata": {
        "id": "l9f73W0_5uo0"
      },
      "source": [
        "# Model creation"
      ]
    },
    {
      "cell_type": "code",
      "metadata": {
        "id": "D0kYIMqb5uo0"
      },
      "source": [
        "training_percentage = 0.9\n",
        "training_item_count = int(len(samples_df)*training_percentage)\n",
        "validation_item_count = len(samples_df)-int(len(samples_df)*training_percentage)\n",
        "training_df = samples_df[:training_item_count]\n",
        "validation_df = samples_df[training_item_count:]"
      ],
      "execution_count": null,
      "outputs": []
    },
    {
      "cell_type": "code",
      "metadata": {
        "colab": {
          "base_uri": "https://localhost:8080/"
        },
        "id": "YYfbbzzQ5uo1",
        "outputId": "bcf6351a-e60b-4fcd-9690-edc3ebf469ae"
      },
      "source": [
        "classes_to_predict = sorted(samples_df.bird.unique())\n",
        "input_shape = (216,216, 3)\n",
        "effnet_layers = EfficientNetB0(weights=None, include_top=False, input_shape=input_shape)\n",
        "\n",
        "for layer in effnet_layers.layers:\n",
        "    layer.trainable = True\n",
        "\n",
        "dropout_dense_layer = 0.3\n",
        "\n",
        "model = Sequential()\n",
        "model.add(effnet_layers)\n",
        "\n",
        "model.add(GlobalAveragePooling2D())\n",
        "model.add(Dense(256, use_bias=False))\n",
        "model.add(BatchNormalization())\n",
        "model.add(Activation('relu'))\n",
        "model.add(Dropout(dropout_dense_layer))\n",
        "\n",
        "model.add(Dense(len(classes_to_predict), activation=\"softmax\"))\n",
        "\n",
        "model.summary()"
      ],
      "execution_count": null,
      "outputs": [
        {
          "output_type": "stream",
          "text": [
            "Model: \"sequential\"\n",
            "_________________________________________________________________\n",
            "Layer (type)                 Output Shape              Param #   \n",
            "=================================================================\n",
            "efficientnetb0 (Functional)  (None, 7, 7, 1280)        4049571   \n",
            "_________________________________________________________________\n",
            "global_average_pooling2d (Gl (None, 1280)              0         \n",
            "_________________________________________________________________\n",
            "dense (Dense)                (None, 256)               327680    \n",
            "_________________________________________________________________\n",
            "batch_normalization (BatchNo (None, 256)               1024      \n",
            "_________________________________________________________________\n",
            "activation (Activation)      (None, 256)               0         \n",
            "_________________________________________________________________\n",
            "dropout (Dropout)            (None, 256)               0         \n",
            "_________________________________________________________________\n",
            "dense_1 (Dense)              (None, 21)                5397      \n",
            "=================================================================\n",
            "Total params: 4,383,672\n",
            "Trainable params: 4,341,137\n",
            "Non-trainable params: 42,535\n",
            "_________________________________________________________________\n"
          ],
          "name": "stdout"
        }
      ]
    },
    {
      "cell_type": "code",
      "metadata": {
        "id": "2Nlp2CNf5uo1"
      },
      "source": [
        "callbacks = [ReduceLROnPlateau(monitor='val_loss', patience=2, verbose=1, factor=0.7),\n",
        "             EarlyStopping(monitor='val_loss', patience=5),\n",
        "             ModelCheckpoint(filepath='best_model.h5', monitor='val_loss', save_best_only=True)]\n",
        "model.compile(loss=\"categorical_crossentropy\", optimizer='adam')"
      ],
      "execution_count": null,
      "outputs": []
    },
    {
      "cell_type": "code",
      "metadata": {
        "id": "aw8hkzLD5uo2"
      },
      "source": [
        "class_weights = class_weight.compute_class_weight(\"balanced\", classes_to_predict, samples_df.bird.values)\n",
        "class_weights_dict = {i : class_weights[i] for i,label in enumerate(classes_to_predict)}"
      ],
      "execution_count": null,
      "outputs": []
    },
    {
      "cell_type": "code",
      "metadata": {
        "colab": {
          "base_uri": "https://localhost:8080/"
        },
        "id": "ggJRn4qV5uo2",
        "outputId": "13aee70d-a326-4431-972d-8cd3bd90632c"
      },
      "source": [
        "training_batch_size = 32\n",
        "validation_batch_size = 32\n",
        "target_size = (216,216)\n",
        "\n",
        "train_datagen = ImageDataGenerator(\n",
        "    rescale=1. / 255\n",
        ")\n",
        "\n",
        "train_generator = train_datagen.flow_from_dataframe(\n",
        "    dataframe = training_df,\n",
        "    x_col='song_sample',\n",
        "    y_col='bird',\n",
        "    directory='/',\n",
        "    target_size=target_size,\n",
        "    batch_size=training_batch_size,\n",
        "    shuffle=True,\n",
        "    class_mode='categorical')\n",
        "\n",
        "\n",
        "validation_datagen = ImageDataGenerator(rescale=1. / 255)\n",
        "validation_generator = validation_datagen.flow_from_dataframe(\n",
        "    dataframe = validation_df,\n",
        "    x_col='song_sample',\n",
        "    y_col='bird',\n",
        "    directory='/',\n",
        "    target_size=target_size,\n",
        "    shuffle=False,\n",
        "    batch_size=validation_batch_size,\n",
        "    class_mode='categorical')"
      ],
      "execution_count": null,
      "outputs": [
        {
          "output_type": "stream",
          "text": [
            "Found 10939 validated image filenames belonging to 21 classes.\n",
            "Found 1216 validated image filenames belonging to 21 classes.\n"
          ],
          "name": "stdout"
        }
      ]
    },
    {
      "cell_type": "markdown",
      "metadata": {
        "id": "TBzgqgQI5uo3"
      },
      "source": [
        "# Model training"
      ]
    },
    {
      "cell_type": "code",
      "metadata": {
        "colab": {
          "base_uri": "https://localhost:8080/"
        },
        "id": "M4R-2wIj5uo4",
        "outputId": "2d94c23a-885e-4808-d39b-6f8b872cff38"
      },
      "source": [
        "history = model.fit(train_generator,\n",
        "          epochs = 20,\n",
        "          validation_data=validation_generator,\n",
        "#           class_weight=class_weights_dict,\n",
        "          callbacks=callbacks)"
      ],
      "execution_count": null,
      "outputs": [
        {
          "output_type": "stream",
          "text": [
            "Epoch 1/20\n",
            "342/342 [==============================] - 148s 313ms/step - loss: 2.2880 - val_loss: 2.0505\n",
            "Epoch 2/20\n",
            "342/342 [==============================] - 107s 314ms/step - loss: 1.9429 - val_loss: 1.9801\n",
            "Epoch 3/20\n",
            "342/342 [==============================] - 108s 314ms/step - loss: 1.6293 - val_loss: 1.3407\n",
            "Epoch 4/20\n",
            "342/342 [==============================] - 108s 316ms/step - loss: 1.2762 - val_loss: 1.4769\n",
            "Epoch 5/20\n",
            "342/342 [==============================] - 108s 315ms/step - loss: 0.9450 - val_loss: 0.7846\n",
            "Epoch 6/20\n",
            "342/342 [==============================] - 108s 314ms/step - loss: 0.6810 - val_loss: 0.6270\n",
            "Epoch 7/20\n",
            "342/342 [==============================] - 108s 315ms/step - loss: 0.4934 - val_loss: 0.5018\n",
            "Epoch 8/20\n",
            "342/342 [==============================] - 108s 315ms/step - loss: 0.3482 - val_loss: 0.5079\n",
            "Epoch 9/20\n",
            "342/342 [==============================] - 108s 315ms/step - loss: 0.2907 - val_loss: 0.5411\n",
            "\n",
            "Epoch 00009: ReduceLROnPlateau reducing learning rate to 0.0007000000332482159.\n",
            "Epoch 10/20\n",
            "342/342 [==============================] - 108s 316ms/step - loss: 0.1820 - val_loss: 0.3320\n",
            "Epoch 11/20\n",
            "342/342 [==============================] - 108s 316ms/step - loss: 0.1322 - val_loss: 0.4575\n",
            "Epoch 12/20\n",
            "342/342 [==============================] - 108s 317ms/step - loss: 0.0962 - val_loss: 0.3075\n",
            "Epoch 13/20\n",
            "342/342 [==============================] - 108s 315ms/step - loss: 0.0838 - val_loss: 0.4714\n",
            "Epoch 14/20\n",
            "342/342 [==============================] - 108s 316ms/step - loss: 0.0827 - val_loss: 0.5040\n",
            "\n",
            "Epoch 00014: ReduceLROnPlateau reducing learning rate to 0.0004900000232737511.\n",
            "Epoch 15/20\n",
            "342/342 [==============================] - 108s 315ms/step - loss: 0.0771 - val_loss: 0.2785\n",
            "Epoch 16/20\n",
            "342/342 [==============================] - 108s 315ms/step - loss: 0.0371 - val_loss: 0.2880\n",
            "Epoch 17/20\n",
            "342/342 [==============================] - 108s 314ms/step - loss: 0.0263 - val_loss: 0.2685\n",
            "Epoch 18/20\n",
            "342/342 [==============================] - 107s 314ms/step - loss: 0.0381 - val_loss: 0.3520\n",
            "Epoch 19/20\n",
            "342/342 [==============================] - 108s 315ms/step - loss: 0.0394 - val_loss: 0.3300\n",
            "\n",
            "Epoch 00019: ReduceLROnPlateau reducing learning rate to 0.00034300000406801696.\n",
            "Epoch 20/20\n",
            "342/342 [==============================] - 108s 314ms/step - loss: 0.0285 - val_loss: 0.2952\n"
          ],
          "name": "stdout"
        }
      ]
    },
    {
      "cell_type": "code",
      "metadata": {
        "id": "IacWxGWy5uo4",
        "colab": {
          "base_uri": "https://localhost:8080/",
          "height": 301
        },
        "outputId": "bf8c6cad-3aab-4e5e-ada5-2675c810ed6f"
      },
      "source": [
        "plt.plot(history.history['loss'])\n",
        "plt.plot(history.history['val_loss'])\n",
        "plt.title('Loss over epochs')\n",
        "plt.ylabel('Loss')\n",
        "plt.xlabel('Epoch')\n",
        "plt.legend(['Train', 'Validation'], loc='best')\n",
        "plt.show()"
      ],
      "execution_count": null,
      "outputs": [
        {
          "output_type": "display_data",
          "data": {
            "image/png": "[encoded data removed]",
            "text/plain": [
              "<Figure size 432x288 with 1 Axes>"
            ]
          },
          "metadata": {
            "tags": []
          }
        }
      ]
    },
    {
      "cell_type": "code",
      "metadata": {
        "id": "R36xtqqk5uo5",
        "colab": {
          "base_uri": "https://localhost:8080/",
          "height": 545
        },
        "outputId": "3946ef24-ff35-4553-8635-a3a2242d2aba"
      },
      "source": [
        "preds = model.predict_generator(validation_generator)\n",
        "validation_df = pd.DataFrame(columns=[\"prediction\", \"groundtruth\", \"correct_prediction\"])\n",
        "\n",
        "for pred, groundtruth in zip(preds[:16], validation_generator.__getitem__(0)[1]):\n",
        "    validation_df = validation_df.append({\"prediction\":classes_to_predict[np.argmax(pred)],\n",
        "                                       \"groundtruth\":classes_to_predict[np.argmax(groundtruth)],\n",
        "                                       \"correct_prediction\":np.argmax(pred)==np.argmax(groundtruth)}, ignore_index=True)\n",
        "validation_df"
      ],
      "execution_count": null,
      "outputs": [
        {
          "output_type": "execute_result",
          "data": {
            "text/html": [
              "<div>\n",
              "<style scoped>\n",
              "    .dataframe tbody tr th:only-of-type {\n",
              "        vertical-align: middle;\n",
              "    }\n",
              "\n",
              "    .dataframe tbody tr th {\n",
              "        vertical-align: top;\n",
              "    }\n",
              "\n",
              "    .dataframe thead th {\n",
              "        text-align: right;\n",
              "    }\n",
              "</style>\n",
              "<table border=\"1\" class=\"dataframe\">\n",
              "  <thead>\n",
              "    <tr style=\"text-align: right;\">\n",
              "      <th></th>\n",
              "      <th>prediction</th>\n",
              "      <th>groundtruth</th>\n",
              "      <th>correct_prediction</th>\n",
              "    </tr>\n",
              "  </thead>\n",
              "  <tbody>\n",
              "    <tr>\n",
              "      <th>0</th>\n",
              "      <td>nocall</td>\n",
              "      <td>nocall</td>\n",
              "      <td>True</td>\n",
              "    </tr>\n",
              "    <tr>\n",
              "      <th>1</th>\n",
              "      <td>nocall</td>\n",
              "      <td>nocall</td>\n",
              "      <td>True</td>\n",
              "    </tr>\n",
              "    <tr>\n",
              "      <th>2</th>\n",
              "      <td>nocall</td>\n",
              "      <td>nocall</td>\n",
              "      <td>True</td>\n",
              "    </tr>\n",
              "    <tr>\n",
              "      <th>3</th>\n",
              "      <td>comter</td>\n",
              "      <td>comter</td>\n",
              "      <td>True</td>\n",
              "    </tr>\n",
              "    <tr>\n",
              "      <th>4</th>\n",
              "      <td>nocall</td>\n",
              "      <td>nocall</td>\n",
              "      <td>True</td>\n",
              "    </tr>\n",
              "    <tr>\n",
              "      <th>5</th>\n",
              "      <td>nocall</td>\n",
              "      <td>nocall</td>\n",
              "      <td>True</td>\n",
              "    </tr>\n",
              "    <tr>\n",
              "      <th>6</th>\n",
              "      <td>nocall</td>\n",
              "      <td>nocall</td>\n",
              "      <td>True</td>\n",
              "    </tr>\n",
              "    <tr>\n",
              "      <th>7</th>\n",
              "      <td>amerob</td>\n",
              "      <td>amerob</td>\n",
              "      <td>True</td>\n",
              "    </tr>\n",
              "    <tr>\n",
              "      <th>8</th>\n",
              "      <td>amerob</td>\n",
              "      <td>amerob</td>\n",
              "      <td>True</td>\n",
              "    </tr>\n",
              "    <tr>\n",
              "      <th>9</th>\n",
              "      <td>nocall</td>\n",
              "      <td>nocall</td>\n",
              "      <td>True</td>\n",
              "    </tr>\n",
              "    <tr>\n",
              "      <th>10</th>\n",
              "      <td>nocall</td>\n",
              "      <td>nocall</td>\n",
              "      <td>True</td>\n",
              "    </tr>\n",
              "    <tr>\n",
              "      <th>11</th>\n",
              "      <td>nocall</td>\n",
              "      <td>nocall</td>\n",
              "      <td>True</td>\n",
              "    </tr>\n",
              "    <tr>\n",
              "      <th>12</th>\n",
              "      <td>nocall</td>\n",
              "      <td>nocall</td>\n",
              "      <td>True</td>\n",
              "    </tr>\n",
              "    <tr>\n",
              "      <th>13</th>\n",
              "      <td>normoc</td>\n",
              "      <td>normoc</td>\n",
              "      <td>True</td>\n",
              "    </tr>\n",
              "    <tr>\n",
              "      <th>14</th>\n",
              "      <td>nocall</td>\n",
              "      <td>nocall</td>\n",
              "      <td>True</td>\n",
              "    </tr>\n",
              "    <tr>\n",
              "      <th>15</th>\n",
              "      <td>comyel</td>\n",
              "      <td>comyel</td>\n",
              "      <td>True</td>\n",
              "    </tr>\n",
              "  </tbody>\n",
              "</table>\n",
              "</div>"
            ],
            "text/plain": [
              "   prediction groundtruth correct_prediction\n",
              "0      nocall      nocall               True\n",
              "1      nocall      nocall               True\n",
              "2      nocall      nocall               True\n",
              "3      comter      comter               True\n",
              "4      nocall      nocall               True\n",
              "5      nocall      nocall               True\n",
              "6      nocall      nocall               True\n",
              "7      amerob      amerob               True\n",
              "8      amerob      amerob               True\n",
              "9      nocall      nocall               True\n",
              "10     nocall      nocall               True\n",
              "11     nocall      nocall               True\n",
              "12     nocall      nocall               True\n",
              "13     normoc      normoc               True\n",
              "14     nocall      nocall               True\n",
              "15     comyel      comyel               True"
            ]
          },
          "metadata": {
            "tags": []
          },
          "execution_count": 25
        }
      ]
    },
    {
      "cell_type": "code",
      "metadata": {
        "id": "ftQ2dWSD5uo5"
      },
      "source": [
        "!rm -rf /kaggle/working/melspectrogram_dataset"
      ],
      "execution_count": null,
      "outputs": []
    },
    {
      "cell_type": "markdown",
      "source": [
        "# New section"
      ],
      "metadata": {
        "id": "b5K3bGxpcm4n"
      }
    },
    {
      "cell_type": "code",
      "metadata": {
        "id": "4XYh05-B5uo6"
      },
      "source": [
        "model.load_weights(\"best_model.h5\")"
      ],
      "execution_count": null,
      "outputs": []
    },
    {
      "cell_type": "code",
      "metadata": {
        "id": "Y5yyc8Cz5uo6"
      },
      "source": [
        "def predict_on_melspectrogram(song_sample, sample_length):\n",
        "    N_mels=216\n",
        "\n",
        "    if len(song_sample)>=sample_length:\n",
        "        mel = melspectrogram(song_sample, n_mels=N_mels)\n",
        "        db = librosa.power_to_db(mel)\n",
        "        normalised_db = sklearn.preprocessing.minmax_scale(db)\n",
        "        db_array = (np.asarray(normalised_db)*255).astype(np.uint8)\n",
        "\n",
        "        prediction = model.predict(np.array([np.array([db_array, db_array, db_array]).T]))\n",
        "        predicted_bird = classes_to_predict[np.argmax(prediction)]\n",
        "        return predicted_bird\n",
        "    else:\n",
        "        return \"nocall\""
      ],
      "execution_count": null,
      "outputs": []
    },
    {
      "cell_type": "code",
      "metadata": {
        "id": "b6SHlhxB5uo7"
      },
      "source": [
        "def predict_submission(df, audio_file_path):\n",
        "\n",
        "    loaded_audio_sample = []\n",
        "    previous_filename = \"\"\n",
        "    wave_data = []\n",
        "    wave_rate = None\n",
        "    sample_length = None\n",
        "\n",
        "    for idx,row in df.iterrows():\n",
        "        #I added this exception as I've heard that some files may be corrupted.\n",
        "        try:\n",
        "            if previous_filename == \"\" or previous_filename!=row.audio_id:\n",
        "                filename = '{}/{}.mp3'.format(audio_file_path, row.audio_id)\n",
        "                wave_data, wave_rate = librosa.load(filename)\n",
        "                sample_length = 5*wave_rate\n",
        "            previous_filename = row.audio_id\n",
        "\n",
        "            #basically allows to check if we are running the examples or the test set.\n",
        "            if \"site\" in df.columns:\n",
        "                if row.site==\"site_1\" or row.site==\"site_2\":\n",
        "                    song_sample = np.array(wave_data[int(row.seconds-5)*wave_rate:int(row.seconds)*wave_rate])\n",
        "                elif row.site==\"site_3\":\n",
        "                    #for now, I only take the first 5s of the samples from site_3 as they are groundtruthed at file level\n",
        "                    song_sample = np.array(wave_data[0:sample_length])\n",
        "            else:\n",
        "                #same as the first condition but I isolated it for later and it is for the example file\n",
        "                song_sample = np.array(wave_data[int(row.seconds-5)*wave_rate:int(row.seconds)*wave_rate])\n",
        "\n",
        "            predicted_bird = predict_on_melspectrogram(song_sample, sample_length)\n",
        "            df.at[idx,\"birds\"] = predicted_bird\n",
        "        except:\n",
        "            df.at[idx,\"birds\"] = \"nocall\"\n",
        "    return df"
      ],
      "execution_count": null,
      "outputs": []
    },
    {
      "cell_type": "code",
      "metadata": {
        "id": "v-EoX9Ap5uo7",
        "colab": {
          "base_uri": "https://localhost:8080/",
          "height": 419
        },
        "outputId": "3da08d02-74de-40e0-8c1d-cd81727f58f2"
      },
      "source": [
        "audio_file_path = \"/content/drive/MyDrive/kaggle/bird_det/example_test_audio\"\n",
        "example_df = pd.read_csv(\"/content/drive/MyDrive/kaggle/bird_det/example_test_audio_summary.csv\")\n",
        "#Ajusting the example filenames and creating the audio_id column to match with the test file.\n",
        "example_df[\"audio_id\"] = [ \"BLKFR-10-CPL_20190611_093000.pt540\" if filename==\"BLKFR-10-CPL\" else \"ORANGE-7-CAP_20190606_093000.pt623\" for filename in example_df[\"filename\"]]\n",
        "\n",
        "if os.path.exists(audio_file_path):\n",
        "    example_df = predict_submission(example_df, audio_file_path)\n",
        "example_df"
      ],
      "execution_count": null,
      "outputs": [
        {
          "output_type": "execute_result",
          "data": {
            "text/html": [
              "<div>\n",
              "<style scoped>\n",
              "    .dataframe tbody tr th:only-of-type {\n",
              "        vertical-align: middle;\n",
              "    }\n",
              "\n",
              "    .dataframe tbody tr th {\n",
              "        vertical-align: top;\n",
              "    }\n",
              "\n",
              "    .dataframe thead th {\n",
              "        text-align: right;\n",
              "    }\n",
              "</style>\n",
              "<table border=\"1\" class=\"dataframe\">\n",
              "  <thead>\n",
              "    <tr style=\"text-align: right;\">\n",
              "      <th></th>\n",
              "      <th>filename_seconds</th>\n",
              "      <th>birds</th>\n",
              "      <th>filename</th>\n",
              "      <th>seconds</th>\n",
              "      <th>audio_id</th>\n",
              "    </tr>\n",
              "  </thead>\n",
              "  <tbody>\n",
              "    <tr>\n",
              "      <th>0</th>\n",
              "      <td>BLKFR-10-CPL_20190611_093000_5</td>\n",
              "      <td>wesmea</td>\n",
              "      <td>BLKFR-10-CPL</td>\n",
              "      <td>5</td>\n",
              "      <td>BLKFR-10-CPL_20190611_093000.pt540</td>\n",
              "    </tr>\n",
              "    <tr>\n",
              "      <th>1</th>\n",
              "      <td>BLKFR-10-CPL_20190611_093000_10</td>\n",
              "      <td>wesmea</td>\n",
              "      <td>BLKFR-10-CPL</td>\n",
              "      <td>10</td>\n",
              "      <td>BLKFR-10-CPL_20190611_093000.pt540</td>\n",
              "    </tr>\n",
              "    <tr>\n",
              "      <th>2</th>\n",
              "      <td>BLKFR-10-CPL_20190611_093000_15</td>\n",
              "      <td>wesmea</td>\n",
              "      <td>BLKFR-10-CPL</td>\n",
              "      <td>15</td>\n",
              "      <td>BLKFR-10-CPL_20190611_093000.pt540</td>\n",
              "    </tr>\n",
              "    <tr>\n",
              "      <th>3</th>\n",
              "      <td>BLKFR-10-CPL_20190611_093000_20</td>\n",
              "      <td>wesmea</td>\n",
              "      <td>BLKFR-10-CPL</td>\n",
              "      <td>20</td>\n",
              "      <td>BLKFR-10-CPL_20190611_093000.pt540</td>\n",
              "    </tr>\n",
              "    <tr>\n",
              "      <th>4</th>\n",
              "      <td>BLKFR-10-CPL_20190611_093000_25</td>\n",
              "      <td>wesmea</td>\n",
              "      <td>BLKFR-10-CPL</td>\n",
              "      <td>25</td>\n",
              "      <td>BLKFR-10-CPL_20190611_093000.pt540</td>\n",
              "    </tr>\n",
              "    <tr>\n",
              "      <th>...</th>\n",
              "      <td>...</td>\n",
              "      <td>...</td>\n",
              "      <td>...</td>\n",
              "      <td>...</td>\n",
              "      <td>...</td>\n",
              "    </tr>\n",
              "    <tr>\n",
              "      <th>148</th>\n",
              "      <td>ORANGE-7-CAP_20190606_093000_280</td>\n",
              "      <td>wesmea</td>\n",
              "      <td>ORANGE-7-CAP</td>\n",
              "      <td>280</td>\n",
              "      <td>ORANGE-7-CAP_20190606_093000.pt623</td>\n",
              "    </tr>\n",
              "    <tr>\n",
              "      <th>149</th>\n",
              "      <td>ORANGE-7-CAP_20190606_093000_285</td>\n",
              "      <td>wesmea</td>\n",
              "      <td>ORANGE-7-CAP</td>\n",
              "      <td>285</td>\n",
              "      <td>ORANGE-7-CAP_20190606_093000.pt623</td>\n",
              "    </tr>\n",
              "    <tr>\n",
              "      <th>150</th>\n",
              "      <td>ORANGE-7-CAP_20190606_093000_290</td>\n",
              "      <td>wesmea</td>\n",
              "      <td>ORANGE-7-CAP</td>\n",
              "      <td>290</td>\n",
              "      <td>ORANGE-7-CAP_20190606_093000.pt623</td>\n",
              "    </tr>\n",
              "    <tr>\n",
              "      <th>151</th>\n",
              "      <td>ORANGE-7-CAP_20190606_093000_295</td>\n",
              "      <td>wesmea</td>\n",
              "      <td>ORANGE-7-CAP</td>\n",
              "      <td>295</td>\n",
              "      <td>ORANGE-7-CAP_20190606_093000.pt623</td>\n",
              "    </tr>\n",
              "    <tr>\n",
              "      <th>152</th>\n",
              "      <td>ORANGE-7-CAP_20190606_093000_300</td>\n",
              "      <td>wesmea</td>\n",
              "      <td>ORANGE-7-CAP</td>\n",
              "      <td>300</td>\n",
              "      <td>ORANGE-7-CAP_20190606_093000.pt623</td>\n",
              "    </tr>\n",
              "  </tbody>\n",
              "</table>\n",
              "<p>153 rows × 5 columns</p>\n",
              "</div>"
            ],
            "text/plain": [
              "                     filename_seconds  ...                            audio_id\n",
              "0      BLKFR-10-CPL_20190611_093000_5  ...  BLKFR-10-CPL_20190611_093000.pt540\n",
              "1     BLKFR-10-CPL_20190611_093000_10  ...  BLKFR-10-CPL_20190611_093000.pt540\n",
              "2     BLKFR-10-CPL_20190611_093000_15  ...  BLKFR-10-CPL_20190611_093000.pt540\n",
              "3     BLKFR-10-CPL_20190611_093000_20  ...  BLKFR-10-CPL_20190611_093000.pt540\n",
              "4     BLKFR-10-CPL_20190611_093000_25  ...  BLKFR-10-CPL_20190611_093000.pt540\n",
              "..                                ...  ...                                 ...\n",
              "148  ORANGE-7-CAP_20190606_093000_280  ...  ORANGE-7-CAP_20190606_093000.pt623\n",
              "149  ORANGE-7-CAP_20190606_093000_285  ...  ORANGE-7-CAP_20190606_093000.pt623\n",
              "150  ORANGE-7-CAP_20190606_093000_290  ...  ORANGE-7-CAP_20190606_093000.pt623\n",
              "151  ORANGE-7-CAP_20190606_093000_295  ...  ORANGE-7-CAP_20190606_093000.pt623\n",
              "152  ORANGE-7-CAP_20190606_093000_300  ...  ORANGE-7-CAP_20190606_093000.pt623\n",
              "\n",
              "[153 rows x 5 columns]"
            ]
          },
          "metadata": {
            "tags": []
          },
          "execution_count": 34
        }
      ]
    },
    {
      "cell_type": "code",
      "metadata": {
        "id": "ErZGgecC5uo8",
        "outputId": "485fba43-6f8f-41b7-81b6-089722e149b8"
      },
      "source": [
        "test_file_path = \"/kaggle/input/birdsong-recognition/test_audio\"\n",
        "test_df = pd.read_csv(\"/kaggle/input/birdsong-recognition/test.csv\")\n",
        "submission_df = pd.read_csv(\"/kaggle/input/birdsong-recognition/sample_submission.csv\")\n",
        "\n",
        "if os.path.exists(test_file_path):\n",
        "    submission_df = predict_submission(test_df, test_file_path)\n",
        "\n",
        "submission_df[[\"row_id\",\"birds\"]].to_csv('submission.csv', index=False)\n",
        "submission_df.head()"
      ],
      "execution_count": null,
      "outputs": [
        {
          "output_type": "execute_result",
          "data": {
            "text/html": [
              "<div>\n",
              "<style scoped>\n",
              "    .dataframe tbody tr th:only-of-type {\n",
              "        vertical-align: middle;\n",
              "    }\n",
              "\n",
              "    .dataframe tbody tr th {\n",
              "        vertical-align: top;\n",
              "    }\n",
              "\n",
              "    .dataframe thead th {\n",
              "        text-align: right;\n",
              "    }\n",
              "</style>\n",
              "<table border=\"1\" class=\"dataframe\">\n",
              "  <thead>\n",
              "    <tr style=\"text-align: right;\">\n",
              "      <th></th>\n",
              "      <th>row_id</th>\n",
              "      <th>birds</th>\n",
              "    </tr>\n",
              "  </thead>\n",
              "  <tbody>\n",
              "    <tr>\n",
              "      <th>0</th>\n",
              "      <td>site_1_0a997dff022e3ad9744d4e7bbf923288_5</td>\n",
              "      <td>nocall</td>\n",
              "    </tr>\n",
              "    <tr>\n",
              "      <th>1</th>\n",
              "      <td>site_1_0a997dff022e3ad9744d4e7bbf923288_10</td>\n",
              "      <td>nocall</td>\n",
              "    </tr>\n",
              "    <tr>\n",
              "      <th>2</th>\n",
              "      <td>site_1_0a997dff022e3ad9744d4e7bbf923288_15</td>\n",
              "      <td>nocall</td>\n",
              "    </tr>\n",
              "  </tbody>\n",
              "</table>\n",
              "</div>"
            ],
            "text/plain": [
              "                                       row_id   birds\n",
              "0   site_1_0a997dff022e3ad9744d4e7bbf923288_5  nocall\n",
              "1  site_1_0a997dff022e3ad9744d4e7bbf923288_10  nocall\n",
              "2  site_1_0a997dff022e3ad9744d4e7bbf923288_15  nocall"
            ]
          },
          "metadata": {
            "tags": []
          },
          "execution_count": 28
        }
      ]
    }
  ]
}
